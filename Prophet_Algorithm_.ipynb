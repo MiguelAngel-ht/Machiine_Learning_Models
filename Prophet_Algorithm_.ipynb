{
  "nbformat": 4,
  "nbformat_minor": 0,
  "metadata": {
    "colab": {
      "provenance": [],
      "collapsed_sections": [
        "yB4fVxlXhCWr",
        "Azze4xZkZf_j",
        "opOBMLqfaPh6",
        "KhQq2JoHb8S-"
      ],
      "authorship_tag": "ABX9TyPuj0rEwgIdJYcqYwCzzG7g",
      "include_colab_link": true
    },
    "kernelspec": {
      "name": "python3",
      "display_name": "Python 3"
    },
    "language_info": {
      "name": "python"
    }
  },
  "cells": [
    {
      "cell_type": "markdown",
      "metadata": {
        "id": "view-in-github",
        "colab_type": "text"
      },
      "source": [
        "<a href=\"https://colab.research.google.com/github/MiguelAngel-ht/Machine_Learning_Models/blob/main/Prophet_Algorithm_.ipynb\" target=\"_parent\"><img src=\"https://colab.research.google.com/assets/colab-badge.svg\" alt=\"Open In Colab\"/></a>"
      ]
    },
    {
      "cell_type": "code",
      "execution_count": 1,
      "metadata": {
        "id": "wJp7pWFVV3-y"
      },
      "outputs": [],
      "source": [
        "import pandas as pd\n",
        "import numpy as np\n",
        "import matplotlib.pyplot as plt"
      ]
    },
    {
      "cell_type": "markdown",
      "source": [
        "## **Importando Datos**"
      ],
      "metadata": {
        "id": "yB4fVxlXhCWr"
      }
    },
    {
      "cell_type": "code",
      "source": [
        "#df1 = pd.read_excel('/content/10 prod 5a test AI_ajustado.xlsx')\n",
        "df = pd.read_excel('/content/10 prod 5a test AI_base.xlsx')"
      ],
      "metadata": {
        "id": "Ej1wwKp6WibG"
      },
      "execution_count": 4,
      "outputs": []
    },
    {
      "cell_type": "code",
      "source": [
        "df = df.rename(columns={'MONEDA (1 pesos 2 dolares)': 'Moneda'})"
      ],
      "metadata": {
        "id": "Pu2jQp2pXw47"
      },
      "execution_count": 5,
      "outputs": []
    },
    {
      "cell_type": "code",
      "source": [
        "df[df['nom_fac'] == 'ARMANDO MELCHOR REVILLA'].sort_values('FECHA', ascending=False)"
      ],
      "metadata": {
        "colab": {
          "base_uri": "https://localhost:8080/",
          "height": 0
        },
        "id": "NebrYQ8KYZTJ",
        "outputId": "1af0c9e2-039b-4565-cf13-818ff33bcd6d"
      },
      "execution_count": 6,
      "outputs": [
        {
          "output_type": "execute_result",
          "data": {
            "text/plain": [
              "        FECHA  subt_fac  cve_cte cse_prod MODELO   MARCA  VALOR UNIT  \\\n",
              "48 2022-10-12    6.9795      243      PPA  TL803  EXTECH      6.9795   \n",
              "0  2022-03-11   12.4080      243      PPA  TL803  EXTECH      6.2040   \n",
              "42 2021-12-07    6.9717      243      PPA  TL803  EXTECH      6.9717   \n",
              "39 2021-10-19    6.9717      243      PPA  TL803  EXTECH      6.9717   \n",
              "32 2021-06-10   20.9151      243      PPA  TL803  EXTECH      6.9717   \n",
              "31 2021-05-14   13.9434      243      PPA  TL803  EXTECH      6.9717   \n",
              "75 2020-11-18   15.4930      243      PPA  TL803  EXTECH      7.7465   \n",
              "72 2020-08-20   23.2395      243      PPA  TL803  EXTECH      7.7465   \n",
              "5  2020-02-27    6.7469      243      PPA  TL803  EXTECH      6.7469   \n",
              "4  2020-02-20    6.7469      243      PPA  TL803  EXTECH      6.7469   \n",
              "1  2020-01-04    6.7469      243      PPA  TL803  EXTECH      6.7469   \n",
              "26 2019-12-12   13.4938      243      PPA  TL803  EXTECH      6.7469   \n",
              "20 2019-06-06   13.4938      243      PPA  TL803  EXTECH      6.7469   \n",
              "19 2019-04-25    6.7469      243      PPA  TL803  EXTECH      6.7469   \n",
              "12 2018-09-04   13.4938      243      PPA  TL803  EXTECH      6.7469   \n",
              "67 2018-06-08   13.9590      243      PPA  TL803  EXTECH      6.9795   \n",
              "64 2018-04-07   13.9590      243      PPA  TL803  EXTECH      6.9795   \n",
              "62 2017-12-14   13.9590      243      PPA  TL803  EXTECH      6.9795   \n",
              "53 2017-04-06    6.9795      243      PPA  TL803  EXTECH      6.9795   \n",
              "\n",
              "    CANTIDAD  Moneda  COSTO  DOLARES  tip_cam  VENDEDOR  \\\n",
              "48         1       2   4.95   6.9795  21.5000        10   \n",
              "0          2       2   4.95  12.4080  22.5000        22   \n",
              "42         1       2   4.95   6.9717  22.5000        22   \n",
              "39         1       2   4.95   6.9717  21.7000        22   \n",
              "32         3       2   4.95  20.9151  21.0000        22   \n",
              "31         2       2   4.95  13.9434  21.3000        22   \n",
              "75         2       2   4.95  15.4930  21.5200        22   \n",
              "72         3       2   4.95  23.2395  22.5400        22   \n",
              "5          1       2   4.95   6.7469  20.0000        22   \n",
              "4          1       2   4.95   6.7469  20.0000        22   \n",
              "1          1       2   4.95   6.7469  20.0000        22   \n",
              "26         2       2   4.95  13.4938  20.5000         8   \n",
              "20         2       2   4.95  13.4938  19.5418         8   \n",
              "19         1       2   4.95   6.7469  19.5600         8   \n",
              "12         2       2   4.95  13.4938  19.8100         8   \n",
              "67         2       2   4.95  13.9590  20.4600         8   \n",
              "64         2       2   4.95  13.9590  18.1081         8   \n",
              "62         2       2   4.95  13.9590  19.1391         8   \n",
              "53         1       2   4.95   6.9795  18.7192         7   \n",
              "\n",
              "                    nom_fac                               desc_prod lista_pre  \n",
              "48  ARMANDO MELCHOR REVILLA  PUNTAS ESTANDAR P/MULTIMETRO 1000V/10A         4  \n",
              "0   ARMANDO MELCHOR REVILLA  PUNTAS ESTANDAR P/MULTIMETRO 1000V/10A         4  \n",
              "42  ARMANDO MELCHOR REVILLA  PUNTAS ESTANDAR P/MULTIMETRO 1000V/10A         4  \n",
              "39  ARMANDO MELCHOR REVILLA  PUNTAS ESTANDAR P/MULTIMETRO 1000V/10A         4  \n",
              "32  ARMANDO MELCHOR REVILLA  PUNTAS ESTANDAR P/MULTIMETRO 1000V/10A         4  \n",
              "31  ARMANDO MELCHOR REVILLA  PUNTAS ESTANDAR P/MULTIMETRO 1000V/10A         4  \n",
              "75  ARMANDO MELCHOR REVILLA  PUNTAS ESTANDAR P/MULTIMETRO 1000V/10A         4  \n",
              "72  ARMANDO MELCHOR REVILLA  PUNTAS ESTANDAR P/MULTIMETRO 1000V/10A         4  \n",
              "5   ARMANDO MELCHOR REVILLA  PUNTAS ESTANDAR P/MULTIMETRO 1000V/10A         4  \n",
              "4   ARMANDO MELCHOR REVILLA  PUNTAS ESTANDAR P/MULTIMETRO 1000V/10A         4  \n",
              "1   ARMANDO MELCHOR REVILLA  PUNTAS ESTANDAR P/MULTIMETRO 1000V/10A         4  \n",
              "26  ARMANDO MELCHOR REVILLA  PUNTAS ESTANDAR P/MULTIMETRO 1000V/10A         4  \n",
              "20  ARMANDO MELCHOR REVILLA  PUNTAS ESTANDAR P/MULTIMETRO 1000V/10A         4  \n",
              "19  ARMANDO MELCHOR REVILLA  PUNTAS ESTANDAR P/MULTIMETRO 1000V/10A         4  \n",
              "12  ARMANDO MELCHOR REVILLA  PUNTAS ESTANDAR P/MULTIMETRO 1000V/10A         4  \n",
              "67  ARMANDO MELCHOR REVILLA  PUNTAS ESTANDAR P/MULTIMETRO 1000V/10A         4  \n",
              "64  ARMANDO MELCHOR REVILLA  PUNTAS ESTANDAR P/MULTIMETRO 1000V/10A         4  \n",
              "62  ARMANDO MELCHOR REVILLA  PUNTAS ESTANDAR P/MULTIMETRO 1000V/10A         4  \n",
              "53  ARMANDO MELCHOR REVILLA  PUNTAS ESTANDAR P/MULTIMETRO 1000V/10A         4  "
            ],
            "text/html": [
              "\n",
              "  <div id=\"df-eab479c0-cf30-46e9-a9d1-d52341d013c6\">\n",
              "    <div class=\"colab-df-container\">\n",
              "      <div>\n",
              "<style scoped>\n",
              "    .dataframe tbody tr th:only-of-type {\n",
              "        vertical-align: middle;\n",
              "    }\n",
              "\n",
              "    .dataframe tbody tr th {\n",
              "        vertical-align: top;\n",
              "    }\n",
              "\n",
              "    .dataframe thead th {\n",
              "        text-align: right;\n",
              "    }\n",
              "</style>\n",
              "<table border=\"1\" class=\"dataframe\">\n",
              "  <thead>\n",
              "    <tr style=\"text-align: right;\">\n",
              "      <th></th>\n",
              "      <th>FECHA</th>\n",
              "      <th>subt_fac</th>\n",
              "      <th>cve_cte</th>\n",
              "      <th>cse_prod</th>\n",
              "      <th>MODELO</th>\n",
              "      <th>MARCA</th>\n",
              "      <th>VALOR UNIT</th>\n",
              "      <th>CANTIDAD</th>\n",
              "      <th>Moneda</th>\n",
              "      <th>COSTO</th>\n",
              "      <th>DOLARES</th>\n",
              "      <th>tip_cam</th>\n",
              "      <th>VENDEDOR</th>\n",
              "      <th>nom_fac</th>\n",
              "      <th>desc_prod</th>\n",
              "      <th>lista_pre</th>\n",
              "    </tr>\n",
              "  </thead>\n",
              "  <tbody>\n",
              "    <tr>\n",
              "      <th>48</th>\n",
              "      <td>2022-10-12</td>\n",
              "      <td>6.9795</td>\n",
              "      <td>243</td>\n",
              "      <td>PPA</td>\n",
              "      <td>TL803</td>\n",
              "      <td>EXTECH</td>\n",
              "      <td>6.9795</td>\n",
              "      <td>1</td>\n",
              "      <td>2</td>\n",
              "      <td>4.95</td>\n",
              "      <td>6.9795</td>\n",
              "      <td>21.5000</td>\n",
              "      <td>10</td>\n",
              "      <td>ARMANDO MELCHOR REVILLA</td>\n",
              "      <td>PUNTAS ESTANDAR P/MULTIMETRO 1000V/10A</td>\n",
              "      <td>4</td>\n",
              "    </tr>\n",
              "    <tr>\n",
              "      <th>0</th>\n",
              "      <td>2022-03-11</td>\n",
              "      <td>12.4080</td>\n",
              "      <td>243</td>\n",
              "      <td>PPA</td>\n",
              "      <td>TL803</td>\n",
              "      <td>EXTECH</td>\n",
              "      <td>6.2040</td>\n",
              "      <td>2</td>\n",
              "      <td>2</td>\n",
              "      <td>4.95</td>\n",
              "      <td>12.4080</td>\n",
              "      <td>22.5000</td>\n",
              "      <td>22</td>\n",
              "      <td>ARMANDO MELCHOR REVILLA</td>\n",
              "      <td>PUNTAS ESTANDAR P/MULTIMETRO 1000V/10A</td>\n",
              "      <td>4</td>\n",
              "    </tr>\n",
              "    <tr>\n",
              "      <th>42</th>\n",
              "      <td>2021-12-07</td>\n",
              "      <td>6.9717</td>\n",
              "      <td>243</td>\n",
              "      <td>PPA</td>\n",
              "      <td>TL803</td>\n",
              "      <td>EXTECH</td>\n",
              "      <td>6.9717</td>\n",
              "      <td>1</td>\n",
              "      <td>2</td>\n",
              "      <td>4.95</td>\n",
              "      <td>6.9717</td>\n",
              "      <td>22.5000</td>\n",
              "      <td>22</td>\n",
              "      <td>ARMANDO MELCHOR REVILLA</td>\n",
              "      <td>PUNTAS ESTANDAR P/MULTIMETRO 1000V/10A</td>\n",
              "      <td>4</td>\n",
              "    </tr>\n",
              "    <tr>\n",
              "      <th>39</th>\n",
              "      <td>2021-10-19</td>\n",
              "      <td>6.9717</td>\n",
              "      <td>243</td>\n",
              "      <td>PPA</td>\n",
              "      <td>TL803</td>\n",
              "      <td>EXTECH</td>\n",
              "      <td>6.9717</td>\n",
              "      <td>1</td>\n",
              "      <td>2</td>\n",
              "      <td>4.95</td>\n",
              "      <td>6.9717</td>\n",
              "      <td>21.7000</td>\n",
              "      <td>22</td>\n",
              "      <td>ARMANDO MELCHOR REVILLA</td>\n",
              "      <td>PUNTAS ESTANDAR P/MULTIMETRO 1000V/10A</td>\n",
              "      <td>4</td>\n",
              "    </tr>\n",
              "    <tr>\n",
              "      <th>32</th>\n",
              "      <td>2021-06-10</td>\n",
              "      <td>20.9151</td>\n",
              "      <td>243</td>\n",
              "      <td>PPA</td>\n",
              "      <td>TL803</td>\n",
              "      <td>EXTECH</td>\n",
              "      <td>6.9717</td>\n",
              "      <td>3</td>\n",
              "      <td>2</td>\n",
              "      <td>4.95</td>\n",
              "      <td>20.9151</td>\n",
              "      <td>21.0000</td>\n",
              "      <td>22</td>\n",
              "      <td>ARMANDO MELCHOR REVILLA</td>\n",
              "      <td>PUNTAS ESTANDAR P/MULTIMETRO 1000V/10A</td>\n",
              "      <td>4</td>\n",
              "    </tr>\n",
              "    <tr>\n",
              "      <th>31</th>\n",
              "      <td>2021-05-14</td>\n",
              "      <td>13.9434</td>\n",
              "      <td>243</td>\n",
              "      <td>PPA</td>\n",
              "      <td>TL803</td>\n",
              "      <td>EXTECH</td>\n",
              "      <td>6.9717</td>\n",
              "      <td>2</td>\n",
              "      <td>2</td>\n",
              "      <td>4.95</td>\n",
              "      <td>13.9434</td>\n",
              "      <td>21.3000</td>\n",
              "      <td>22</td>\n",
              "      <td>ARMANDO MELCHOR REVILLA</td>\n",
              "      <td>PUNTAS ESTANDAR P/MULTIMETRO 1000V/10A</td>\n",
              "      <td>4</td>\n",
              "    </tr>\n",
              "    <tr>\n",
              "      <th>75</th>\n",
              "      <td>2020-11-18</td>\n",
              "      <td>15.4930</td>\n",
              "      <td>243</td>\n",
              "      <td>PPA</td>\n",
              "      <td>TL803</td>\n",
              "      <td>EXTECH</td>\n",
              "      <td>7.7465</td>\n",
              "      <td>2</td>\n",
              "      <td>2</td>\n",
              "      <td>4.95</td>\n",
              "      <td>15.4930</td>\n",
              "      <td>21.5200</td>\n",
              "      <td>22</td>\n",
              "      <td>ARMANDO MELCHOR REVILLA</td>\n",
              "      <td>PUNTAS ESTANDAR P/MULTIMETRO 1000V/10A</td>\n",
              "      <td>4</td>\n",
              "    </tr>\n",
              "    <tr>\n",
              "      <th>72</th>\n",
              "      <td>2020-08-20</td>\n",
              "      <td>23.2395</td>\n",
              "      <td>243</td>\n",
              "      <td>PPA</td>\n",
              "      <td>TL803</td>\n",
              "      <td>EXTECH</td>\n",
              "      <td>7.7465</td>\n",
              "      <td>3</td>\n",
              "      <td>2</td>\n",
              "      <td>4.95</td>\n",
              "      <td>23.2395</td>\n",
              "      <td>22.5400</td>\n",
              "      <td>22</td>\n",
              "      <td>ARMANDO MELCHOR REVILLA</td>\n",
              "      <td>PUNTAS ESTANDAR P/MULTIMETRO 1000V/10A</td>\n",
              "      <td>4</td>\n",
              "    </tr>\n",
              "    <tr>\n",
              "      <th>5</th>\n",
              "      <td>2020-02-27</td>\n",
              "      <td>6.7469</td>\n",
              "      <td>243</td>\n",
              "      <td>PPA</td>\n",
              "      <td>TL803</td>\n",
              "      <td>EXTECH</td>\n",
              "      <td>6.7469</td>\n",
              "      <td>1</td>\n",
              "      <td>2</td>\n",
              "      <td>4.95</td>\n",
              "      <td>6.7469</td>\n",
              "      <td>20.0000</td>\n",
              "      <td>22</td>\n",
              "      <td>ARMANDO MELCHOR REVILLA</td>\n",
              "      <td>PUNTAS ESTANDAR P/MULTIMETRO 1000V/10A</td>\n",
              "      <td>4</td>\n",
              "    </tr>\n",
              "    <tr>\n",
              "      <th>4</th>\n",
              "      <td>2020-02-20</td>\n",
              "      <td>6.7469</td>\n",
              "      <td>243</td>\n",
              "      <td>PPA</td>\n",
              "      <td>TL803</td>\n",
              "      <td>EXTECH</td>\n",
              "      <td>6.7469</td>\n",
              "      <td>1</td>\n",
              "      <td>2</td>\n",
              "      <td>4.95</td>\n",
              "      <td>6.7469</td>\n",
              "      <td>20.0000</td>\n",
              "      <td>22</td>\n",
              "      <td>ARMANDO MELCHOR REVILLA</td>\n",
              "      <td>PUNTAS ESTANDAR P/MULTIMETRO 1000V/10A</td>\n",
              "      <td>4</td>\n",
              "    </tr>\n",
              "    <tr>\n",
              "      <th>1</th>\n",
              "      <td>2020-01-04</td>\n",
              "      <td>6.7469</td>\n",
              "      <td>243</td>\n",
              "      <td>PPA</td>\n",
              "      <td>TL803</td>\n",
              "      <td>EXTECH</td>\n",
              "      <td>6.7469</td>\n",
              "      <td>1</td>\n",
              "      <td>2</td>\n",
              "      <td>4.95</td>\n",
              "      <td>6.7469</td>\n",
              "      <td>20.0000</td>\n",
              "      <td>22</td>\n",
              "      <td>ARMANDO MELCHOR REVILLA</td>\n",
              "      <td>PUNTAS ESTANDAR P/MULTIMETRO 1000V/10A</td>\n",
              "      <td>4</td>\n",
              "    </tr>\n",
              "    <tr>\n",
              "      <th>26</th>\n",
              "      <td>2019-12-12</td>\n",
              "      <td>13.4938</td>\n",
              "      <td>243</td>\n",
              "      <td>PPA</td>\n",
              "      <td>TL803</td>\n",
              "      <td>EXTECH</td>\n",
              "      <td>6.7469</td>\n",
              "      <td>2</td>\n",
              "      <td>2</td>\n",
              "      <td>4.95</td>\n",
              "      <td>13.4938</td>\n",
              "      <td>20.5000</td>\n",
              "      <td>8</td>\n",
              "      <td>ARMANDO MELCHOR REVILLA</td>\n",
              "      <td>PUNTAS ESTANDAR P/MULTIMETRO 1000V/10A</td>\n",
              "      <td>4</td>\n",
              "    </tr>\n",
              "    <tr>\n",
              "      <th>20</th>\n",
              "      <td>2019-06-06</td>\n",
              "      <td>13.4938</td>\n",
              "      <td>243</td>\n",
              "      <td>PPA</td>\n",
              "      <td>TL803</td>\n",
              "      <td>EXTECH</td>\n",
              "      <td>6.7469</td>\n",
              "      <td>2</td>\n",
              "      <td>2</td>\n",
              "      <td>4.95</td>\n",
              "      <td>13.4938</td>\n",
              "      <td>19.5418</td>\n",
              "      <td>8</td>\n",
              "      <td>ARMANDO MELCHOR REVILLA</td>\n",
              "      <td>PUNTAS ESTANDAR P/MULTIMETRO 1000V/10A</td>\n",
              "      <td>4</td>\n",
              "    </tr>\n",
              "    <tr>\n",
              "      <th>19</th>\n",
              "      <td>2019-04-25</td>\n",
              "      <td>6.7469</td>\n",
              "      <td>243</td>\n",
              "      <td>PPA</td>\n",
              "      <td>TL803</td>\n",
              "      <td>EXTECH</td>\n",
              "      <td>6.7469</td>\n",
              "      <td>1</td>\n",
              "      <td>2</td>\n",
              "      <td>4.95</td>\n",
              "      <td>6.7469</td>\n",
              "      <td>19.5600</td>\n",
              "      <td>8</td>\n",
              "      <td>ARMANDO MELCHOR REVILLA</td>\n",
              "      <td>PUNTAS ESTANDAR P/MULTIMETRO 1000V/10A</td>\n",
              "      <td>4</td>\n",
              "    </tr>\n",
              "    <tr>\n",
              "      <th>12</th>\n",
              "      <td>2018-09-04</td>\n",
              "      <td>13.4938</td>\n",
              "      <td>243</td>\n",
              "      <td>PPA</td>\n",
              "      <td>TL803</td>\n",
              "      <td>EXTECH</td>\n",
              "      <td>6.7469</td>\n",
              "      <td>2</td>\n",
              "      <td>2</td>\n",
              "      <td>4.95</td>\n",
              "      <td>13.4938</td>\n",
              "      <td>19.8100</td>\n",
              "      <td>8</td>\n",
              "      <td>ARMANDO MELCHOR REVILLA</td>\n",
              "      <td>PUNTAS ESTANDAR P/MULTIMETRO 1000V/10A</td>\n",
              "      <td>4</td>\n",
              "    </tr>\n",
              "    <tr>\n",
              "      <th>67</th>\n",
              "      <td>2018-06-08</td>\n",
              "      <td>13.9590</td>\n",
              "      <td>243</td>\n",
              "      <td>PPA</td>\n",
              "      <td>TL803</td>\n",
              "      <td>EXTECH</td>\n",
              "      <td>6.9795</td>\n",
              "      <td>2</td>\n",
              "      <td>2</td>\n",
              "      <td>4.95</td>\n",
              "      <td>13.9590</td>\n",
              "      <td>20.4600</td>\n",
              "      <td>8</td>\n",
              "      <td>ARMANDO MELCHOR REVILLA</td>\n",
              "      <td>PUNTAS ESTANDAR P/MULTIMETRO 1000V/10A</td>\n",
              "      <td>4</td>\n",
              "    </tr>\n",
              "    <tr>\n",
              "      <th>64</th>\n",
              "      <td>2018-04-07</td>\n",
              "      <td>13.9590</td>\n",
              "      <td>243</td>\n",
              "      <td>PPA</td>\n",
              "      <td>TL803</td>\n",
              "      <td>EXTECH</td>\n",
              "      <td>6.9795</td>\n",
              "      <td>2</td>\n",
              "      <td>2</td>\n",
              "      <td>4.95</td>\n",
              "      <td>13.9590</td>\n",
              "      <td>18.1081</td>\n",
              "      <td>8</td>\n",
              "      <td>ARMANDO MELCHOR REVILLA</td>\n",
              "      <td>PUNTAS ESTANDAR P/MULTIMETRO 1000V/10A</td>\n",
              "      <td>4</td>\n",
              "    </tr>\n",
              "    <tr>\n",
              "      <th>62</th>\n",
              "      <td>2017-12-14</td>\n",
              "      <td>13.9590</td>\n",
              "      <td>243</td>\n",
              "      <td>PPA</td>\n",
              "      <td>TL803</td>\n",
              "      <td>EXTECH</td>\n",
              "      <td>6.9795</td>\n",
              "      <td>2</td>\n",
              "      <td>2</td>\n",
              "      <td>4.95</td>\n",
              "      <td>13.9590</td>\n",
              "      <td>19.1391</td>\n",
              "      <td>8</td>\n",
              "      <td>ARMANDO MELCHOR REVILLA</td>\n",
              "      <td>PUNTAS ESTANDAR P/MULTIMETRO 1000V/10A</td>\n",
              "      <td>4</td>\n",
              "    </tr>\n",
              "    <tr>\n",
              "      <th>53</th>\n",
              "      <td>2017-04-06</td>\n",
              "      <td>6.9795</td>\n",
              "      <td>243</td>\n",
              "      <td>PPA</td>\n",
              "      <td>TL803</td>\n",
              "      <td>EXTECH</td>\n",
              "      <td>6.9795</td>\n",
              "      <td>1</td>\n",
              "      <td>2</td>\n",
              "      <td>4.95</td>\n",
              "      <td>6.9795</td>\n",
              "      <td>18.7192</td>\n",
              "      <td>7</td>\n",
              "      <td>ARMANDO MELCHOR REVILLA</td>\n",
              "      <td>PUNTAS ESTANDAR P/MULTIMETRO 1000V/10A</td>\n",
              "      <td>4</td>\n",
              "    </tr>\n",
              "  </tbody>\n",
              "</table>\n",
              "</div>\n",
              "      <button class=\"colab-df-convert\" onclick=\"convertToInteractive('df-eab479c0-cf30-46e9-a9d1-d52341d013c6')\"\n",
              "              title=\"Convert this dataframe to an interactive table.\"\n",
              "              style=\"display:none;\">\n",
              "        \n",
              "  <svg xmlns=\"http://www.w3.org/2000/svg\" height=\"24px\"viewBox=\"0 0 24 24\"\n",
              "       width=\"24px\">\n",
              "    <path d=\"M0 0h24v24H0V0z\" fill=\"none\"/>\n",
              "    <path d=\"M18.56 5.44l.94 2.06.94-2.06 2.06-.94-2.06-.94-.94-2.06-.94 2.06-2.06.94zm-11 1L8.5 8.5l.94-2.06 2.06-.94-2.06-.94L8.5 2.5l-.94 2.06-2.06.94zm10 10l.94 2.06.94-2.06 2.06-.94-2.06-.94-.94-2.06-.94 2.06-2.06.94z\"/><path d=\"M17.41 7.96l-1.37-1.37c-.4-.4-.92-.59-1.43-.59-.52 0-1.04.2-1.43.59L10.3 9.45l-7.72 7.72c-.78.78-.78 2.05 0 2.83L4 21.41c.39.39.9.59 1.41.59.51 0 1.02-.2 1.41-.59l7.78-7.78 2.81-2.81c.8-.78.8-2.07 0-2.86zM5.41 20L4 18.59l7.72-7.72 1.47 1.35L5.41 20z\"/>\n",
              "  </svg>\n",
              "      </button>\n",
              "      \n",
              "  <style>\n",
              "    .colab-df-container {\n",
              "      display:flex;\n",
              "      flex-wrap:wrap;\n",
              "      gap: 12px;\n",
              "    }\n",
              "\n",
              "    .colab-df-convert {\n",
              "      background-color: #E8F0FE;\n",
              "      border: none;\n",
              "      border-radius: 50%;\n",
              "      cursor: pointer;\n",
              "      display: none;\n",
              "      fill: #1967D2;\n",
              "      height: 32px;\n",
              "      padding: 0 0 0 0;\n",
              "      width: 32px;\n",
              "    }\n",
              "\n",
              "    .colab-df-convert:hover {\n",
              "      background-color: #E2EBFA;\n",
              "      box-shadow: 0px 1px 2px rgba(60, 64, 67, 0.3), 0px 1px 3px 1px rgba(60, 64, 67, 0.15);\n",
              "      fill: #174EA6;\n",
              "    }\n",
              "\n",
              "    [theme=dark] .colab-df-convert {\n",
              "      background-color: #3B4455;\n",
              "      fill: #D2E3FC;\n",
              "    }\n",
              "\n",
              "    [theme=dark] .colab-df-convert:hover {\n",
              "      background-color: #434B5C;\n",
              "      box-shadow: 0px 1px 3px 1px rgba(0, 0, 0, 0.15);\n",
              "      filter: drop-shadow(0px 1px 2px rgba(0, 0, 0, 0.3));\n",
              "      fill: #FFFFFF;\n",
              "    }\n",
              "  </style>\n",
              "\n",
              "      <script>\n",
              "        const buttonEl =\n",
              "          document.querySelector('#df-eab479c0-cf30-46e9-a9d1-d52341d013c6 button.colab-df-convert');\n",
              "        buttonEl.style.display =\n",
              "          google.colab.kernel.accessAllowed ? 'block' : 'none';\n",
              "\n",
              "        async function convertToInteractive(key) {\n",
              "          const element = document.querySelector('#df-eab479c0-cf30-46e9-a9d1-d52341d013c6');\n",
              "          const dataTable =\n",
              "            await google.colab.kernel.invokeFunction('convertToInteractive',\n",
              "                                                     [key], {});\n",
              "          if (!dataTable) return;\n",
              "\n",
              "          const docLinkHtml = 'Like what you see? Visit the ' +\n",
              "            '<a target=\"_blank\" href=https://colab.research.google.com/notebooks/data_table.ipynb>data table notebook</a>'\n",
              "            + ' to learn more about interactive tables.';\n",
              "          element.innerHTML = '';\n",
              "          dataTable['output_type'] = 'display_data';\n",
              "          await google.colab.output.renderOutput(dataTable, element);\n",
              "          const docLink = document.createElement('div');\n",
              "          docLink.innerHTML = docLinkHtml;\n",
              "          element.appendChild(docLink);\n",
              "        }\n",
              "      </script>\n",
              "    </div>\n",
              "  </div>\n",
              "  "
            ]
          },
          "metadata": {},
          "execution_count": 6
        }
      ]
    },
    {
      "cell_type": "code",
      "source": [],
      "metadata": {
        "id": "58dMyGDK_lKC"
      },
      "execution_count": 6,
      "outputs": []
    },
    {
      "cell_type": "markdown",
      "source": [
        "# **Analisis Exploratorio**"
      ],
      "metadata": {
        "id": "f-uoAMfx_ls5"
      }
    },
    {
      "cell_type": "markdown",
      "source": [
        "## Datos estadísticos básicos"
      ],
      "metadata": {
        "id": "Azze4xZkZf_j"
      }
    },
    {
      "cell_type": "code",
      "source": [
        "print('Dimensiones del dataset')\n",
        "print('Variables:', df2.shape[1])\n",
        "print('Datos:', df2.shape[0])"
      ],
      "metadata": {
        "colab": {
          "base_uri": "https://localhost:8080/"
        },
        "id": "JHJJj8aIZllx",
        "outputId": "d2b3afd5-e6e7-4897-8feb-b56e11eec17c"
      },
      "execution_count": null,
      "outputs": [
        {
          "output_type": "stream",
          "name": "stdout",
          "text": [
            "Dimensiones del dataset\n",
            "Variables: 16\n",
            "Datos: 1707\n"
          ]
        }
      ]
    },
    {
      "cell_type": "markdown",
      "source": [
        "## Resumen de los datos"
      ],
      "metadata": {
        "id": "opOBMLqfaPh6"
      }
    },
    {
      "cell_type": "code",
      "source": [
        "df2.describe()"
      ],
      "metadata": {
        "colab": {
          "base_uri": "https://localhost:8080/"
        },
        "id": "EozTX67LaKch",
        "outputId": "25624ac6-b709-4f79-f0f0-aa8c1a465688"
      },
      "execution_count": null,
      "outputs": [
        {
          "output_type": "execute_result",
          "data": {
            "text/plain": [
              "           subt_fac       cve_cte   VALOR UNIT     CANTIDAD       Moneda  \\\n",
              "count   1707.000000   1707.000000  1707.000000  1707.000000  1707.000000   \n",
              "mean    1408.067209   7634.542472   484.746293     3.707088     1.464558   \n",
              "std     4034.430772  20189.161859   644.171316     8.429542     0.498888   \n",
              "min        6.409555      1.000000     6.204000     1.000000     1.000000   \n",
              "25%       71.113400    425.000000    24.565350     1.000000     1.000000   \n",
              "50%      215.226870    908.000000   171.830400     2.000000     1.000000   \n",
              "75%     1306.812050   7012.000000   638.848550     4.000000     2.000000   \n",
              "max    58756.597500  99978.000000  2452.551700   144.000000     2.000000   \n",
              "\n",
              "             COSTO      DOLARES      tip_cam     VENDEDOR  \n",
              "count  1707.000000  1707.000000  1707.000000  1707.000000  \n",
              "mean     25.274997   125.608474    20.831163    14.190978  \n",
              "std      16.758661   228.131526     1.323391     7.368215  \n",
              "min       4.950000     6.334777    17.130000     3.000000  \n",
              "25%      13.200000    22.555152    20.000000     8.000000  \n",
              "50%      17.539500    61.484941    21.000000    10.000000  \n",
              "75%      40.150000   126.612200    21.570000    22.000000  \n",
              "max      51.700000  2732.865000    25.500000    25.000000  "
            ],
            "text/html": [
              "\n",
              "  <div id=\"df-af4f5680-cc70-4d58-b3fa-8fc562834b6a\">\n",
              "    <div class=\"colab-df-container\">\n",
              "      <div>\n",
              "<style scoped>\n",
              "    .dataframe tbody tr th:only-of-type {\n",
              "        vertical-align: middle;\n",
              "    }\n",
              "\n",
              "    .dataframe tbody tr th {\n",
              "        vertical-align: top;\n",
              "    }\n",
              "\n",
              "    .dataframe thead th {\n",
              "        text-align: right;\n",
              "    }\n",
              "</style>\n",
              "<table border=\"1\" class=\"dataframe\">\n",
              "  <thead>\n",
              "    <tr style=\"text-align: right;\">\n",
              "      <th></th>\n",
              "      <th>subt_fac</th>\n",
              "      <th>cve_cte</th>\n",
              "      <th>VALOR UNIT</th>\n",
              "      <th>CANTIDAD</th>\n",
              "      <th>Moneda</th>\n",
              "      <th>COSTO</th>\n",
              "      <th>DOLARES</th>\n",
              "      <th>tip_cam</th>\n",
              "      <th>VENDEDOR</th>\n",
              "    </tr>\n",
              "  </thead>\n",
              "  <tbody>\n",
              "    <tr>\n",
              "      <th>count</th>\n",
              "      <td>1707.000000</td>\n",
              "      <td>1707.000000</td>\n",
              "      <td>1707.000000</td>\n",
              "      <td>1707.000000</td>\n",
              "      <td>1707.000000</td>\n",
              "      <td>1707.000000</td>\n",
              "      <td>1707.000000</td>\n",
              "      <td>1707.000000</td>\n",
              "      <td>1707.000000</td>\n",
              "    </tr>\n",
              "    <tr>\n",
              "      <th>mean</th>\n",
              "      <td>1408.067209</td>\n",
              "      <td>7634.542472</td>\n",
              "      <td>484.746293</td>\n",
              "      <td>3.707088</td>\n",
              "      <td>1.464558</td>\n",
              "      <td>25.274997</td>\n",
              "      <td>125.608474</td>\n",
              "      <td>20.831163</td>\n",
              "      <td>14.190978</td>\n",
              "    </tr>\n",
              "    <tr>\n",
              "      <th>std</th>\n",
              "      <td>4034.430772</td>\n",
              "      <td>20189.161859</td>\n",
              "      <td>644.171316</td>\n",
              "      <td>8.429542</td>\n",
              "      <td>0.498888</td>\n",
              "      <td>16.758661</td>\n",
              "      <td>228.131526</td>\n",
              "      <td>1.323391</td>\n",
              "      <td>7.368215</td>\n",
              "    </tr>\n",
              "    <tr>\n",
              "      <th>min</th>\n",
              "      <td>6.409555</td>\n",
              "      <td>1.000000</td>\n",
              "      <td>6.204000</td>\n",
              "      <td>1.000000</td>\n",
              "      <td>1.000000</td>\n",
              "      <td>4.950000</td>\n",
              "      <td>6.334777</td>\n",
              "      <td>17.130000</td>\n",
              "      <td>3.000000</td>\n",
              "    </tr>\n",
              "    <tr>\n",
              "      <th>25%</th>\n",
              "      <td>71.113400</td>\n",
              "      <td>425.000000</td>\n",
              "      <td>24.565350</td>\n",
              "      <td>1.000000</td>\n",
              "      <td>1.000000</td>\n",
              "      <td>13.200000</td>\n",
              "      <td>22.555152</td>\n",
              "      <td>20.000000</td>\n",
              "      <td>8.000000</td>\n",
              "    </tr>\n",
              "    <tr>\n",
              "      <th>50%</th>\n",
              "      <td>215.226870</td>\n",
              "      <td>908.000000</td>\n",
              "      <td>171.830400</td>\n",
              "      <td>2.000000</td>\n",
              "      <td>1.000000</td>\n",
              "      <td>17.539500</td>\n",
              "      <td>61.484941</td>\n",
              "      <td>21.000000</td>\n",
              "      <td>10.000000</td>\n",
              "    </tr>\n",
              "    <tr>\n",
              "      <th>75%</th>\n",
              "      <td>1306.812050</td>\n",
              "      <td>7012.000000</td>\n",
              "      <td>638.848550</td>\n",
              "      <td>4.000000</td>\n",
              "      <td>2.000000</td>\n",
              "      <td>40.150000</td>\n",
              "      <td>126.612200</td>\n",
              "      <td>21.570000</td>\n",
              "      <td>22.000000</td>\n",
              "    </tr>\n",
              "    <tr>\n",
              "      <th>max</th>\n",
              "      <td>58756.597500</td>\n",
              "      <td>99978.000000</td>\n",
              "      <td>2452.551700</td>\n",
              "      <td>144.000000</td>\n",
              "      <td>2.000000</td>\n",
              "      <td>51.700000</td>\n",
              "      <td>2732.865000</td>\n",
              "      <td>25.500000</td>\n",
              "      <td>25.000000</td>\n",
              "    </tr>\n",
              "  </tbody>\n",
              "</table>\n",
              "</div>\n",
              "      <button class=\"colab-df-convert\" onclick=\"convertToInteractive('df-af4f5680-cc70-4d58-b3fa-8fc562834b6a')\"\n",
              "              title=\"Convert this dataframe to an interactive table.\"\n",
              "              style=\"display:none;\">\n",
              "        \n",
              "  <svg xmlns=\"http://www.w3.org/2000/svg\" height=\"24px\"viewBox=\"0 0 24 24\"\n",
              "       width=\"24px\">\n",
              "    <path d=\"M0 0h24v24H0V0z\" fill=\"none\"/>\n",
              "    <path d=\"M18.56 5.44l.94 2.06.94-2.06 2.06-.94-2.06-.94-.94-2.06-.94 2.06-2.06.94zm-11 1L8.5 8.5l.94-2.06 2.06-.94-2.06-.94L8.5 2.5l-.94 2.06-2.06.94zm10 10l.94 2.06.94-2.06 2.06-.94-2.06-.94-.94-2.06-.94 2.06-2.06.94z\"/><path d=\"M17.41 7.96l-1.37-1.37c-.4-.4-.92-.59-1.43-.59-.52 0-1.04.2-1.43.59L10.3 9.45l-7.72 7.72c-.78.78-.78 2.05 0 2.83L4 21.41c.39.39.9.59 1.41.59.51 0 1.02-.2 1.41-.59l7.78-7.78 2.81-2.81c.8-.78.8-2.07 0-2.86zM5.41 20L4 18.59l7.72-7.72 1.47 1.35L5.41 20z\"/>\n",
              "  </svg>\n",
              "      </button>\n",
              "      \n",
              "  <style>\n",
              "    .colab-df-container {\n",
              "      display:flex;\n",
              "      flex-wrap:wrap;\n",
              "      gap: 12px;\n",
              "    }\n",
              "\n",
              "    .colab-df-convert {\n",
              "      background-color: #E8F0FE;\n",
              "      border: none;\n",
              "      border-radius: 50%;\n",
              "      cursor: pointer;\n",
              "      display: none;\n",
              "      fill: #1967D2;\n",
              "      height: 32px;\n",
              "      padding: 0 0 0 0;\n",
              "      width: 32px;\n",
              "    }\n",
              "\n",
              "    .colab-df-convert:hover {\n",
              "      background-color: #E2EBFA;\n",
              "      box-shadow: 0px 1px 2px rgba(60, 64, 67, 0.3), 0px 1px 3px 1px rgba(60, 64, 67, 0.15);\n",
              "      fill: #174EA6;\n",
              "    }\n",
              "\n",
              "    [theme=dark] .colab-df-convert {\n",
              "      background-color: #3B4455;\n",
              "      fill: #D2E3FC;\n",
              "    }\n",
              "\n",
              "    [theme=dark] .colab-df-convert:hover {\n",
              "      background-color: #434B5C;\n",
              "      box-shadow: 0px 1px 3px 1px rgba(0, 0, 0, 0.15);\n",
              "      filter: drop-shadow(0px 1px 2px rgba(0, 0, 0, 0.3));\n",
              "      fill: #FFFFFF;\n",
              "    }\n",
              "  </style>\n",
              "\n",
              "      <script>\n",
              "        const buttonEl =\n",
              "          document.querySelector('#df-af4f5680-cc70-4d58-b3fa-8fc562834b6a button.colab-df-convert');\n",
              "        buttonEl.style.display =\n",
              "          google.colab.kernel.accessAllowed ? 'block' : 'none';\n",
              "\n",
              "        async function convertToInteractive(key) {\n",
              "          const element = document.querySelector('#df-af4f5680-cc70-4d58-b3fa-8fc562834b6a');\n",
              "          const dataTable =\n",
              "            await google.colab.kernel.invokeFunction('convertToInteractive',\n",
              "                                                     [key], {});\n",
              "          if (!dataTable) return;\n",
              "\n",
              "          const docLinkHtml = 'Like what you see? Visit the ' +\n",
              "            '<a target=\"_blank\" href=https://colab.research.google.com/notebooks/data_table.ipynb>data table notebook</a>'\n",
              "            + ' to learn more about interactive tables.';\n",
              "          element.innerHTML = '';\n",
              "          dataTable['output_type'] = 'display_data';\n",
              "          await google.colab.output.renderOutput(dataTable, element);\n",
              "          const docLink = document.createElement('div');\n",
              "          docLink.innerHTML = docLinkHtml;\n",
              "          element.appendChild(docLink);\n",
              "        }\n",
              "      </script>\n",
              "    </div>\n",
              "  </div>\n",
              "  "
            ]
          },
          "metadata": {},
          "execution_count": 7
        }
      ]
    },
    {
      "cell_type": "markdown",
      "source": [
        "Valores únicos en las variables"
      ],
      "metadata": {
        "id": "_jM1FJvnauIN"
      }
    },
    {
      "cell_type": "code",
      "source": [
        "df2.nunique()"
      ],
      "metadata": {
        "colab": {
          "base_uri": "https://localhost:8080/"
        },
        "id": "xFbuct5RaKgA",
        "outputId": "d67f79ff-5778-4c26-89a9-f1f9b57c2818"
      },
      "execution_count": null,
      "outputs": [
        {
          "output_type": "execute_result",
          "data": {
            "text/plain": [
              "FECHA          975\n",
              "subt_fac      1089\n",
              "cve_cte        539\n",
              "cse_prod         6\n",
              "MODELO          10\n",
              "MARCA            1\n",
              "VALOR UNIT     662\n",
              "CANTIDAD        37\n",
              "Moneda           2\n",
              "COSTO           10\n",
              "DOLARES       1077\n",
              "tip_cam        375\n",
              "VENDEDOR        16\n",
              "nom_fac        539\n",
              "desc_prod       10\n",
              "lista_pre        5\n",
              "dtype: int64"
            ]
          },
          "metadata": {},
          "execution_count": 8
        }
      ]
    },
    {
      "cell_type": "markdown",
      "source": [
        "## Distribución de variables"
      ],
      "metadata": {
        "id": "IP5UZPv8bAdy"
      }
    },
    {
      "cell_type": "code",
      "source": [
        "df2['MODELO'].value_counts().plot.bar()"
      ],
      "metadata": {
        "colab": {
          "base_uri": "https://localhost:8080/",
          "height": 487
        },
        "id": "2a9AEVJAbCez",
        "outputId": "cc68e2c5-c59d-4ebb-ddd2-953ed8d08f2d"
      },
      "execution_count": null,
      "outputs": [
        {
          "output_type": "execute_result",
          "data": {
            "text/plain": [
              "<Axes: >"
            ]
          },
          "metadata": {},
          "execution_count": 9
        },
        {
          "output_type": "display_data",
          "data": {
            "text/plain": [
              "<Figure size 640x480 with 1 Axes>"
            ],
            "image/png": "[encoded data removed]"
          },
          "metadata": {}
        }
      ]
    },
    {
      "cell_type": "code",
      "source": [
        "#@title Mejores Vendedores {display-mode: \"form\"}\n",
        "\n",
        "# Mejores 2 vendedores y agrupar\n",
        "top_vendedores = df2['VENDEDOR'].value_counts().nlargest(2).index\n",
        "datos_vendedores = df2.groupby('VENDEDOR')['CANTIDAD'].sum()\n",
        "\n",
        "# Configurar colores\n",
        "colores = ['mediumseagreen' if vendedor in top_vendedores else 'cornflowerblue' for vendedor in datos_vendedores.index]\n",
        "\n",
        "# Graficar la barra\n",
        "df2.groupby('VENDEDOR')['CANTIDAD'].sum().plot.bar(color=colores)\n",
        "plt.xlabel('Vendedor')\n",
        "plt.ylabel('Cantidad')\n",
        "plt.title('Cantidad de ventas por vendedor')\n",
        "plt.show()"
      ],
      "metadata": {
        "colab": {
          "base_uri": "https://localhost:8080/",
          "height": 475
        },
        "id": "oFnZiprhbO9i",
        "outputId": "960202b0-65ca-4f12-b8f2-c131b084e66c"
      },
      "execution_count": null,
      "outputs": [
        {
          "output_type": "display_data",
          "data": {
            "text/plain": [
              "<Figure size 640x480 with 1 Axes>"
            ],
            "image/png": "[encoded data removed]"
          },
          "metadata": {}
        }
      ]
    },
    {
      "cell_type": "code",
      "source": [
        "nombre_buscar = 'ARMANDO MELCHOR REVILLA'  # Reemplaza 'nombre_deseado' con el nombre que deseas buscar\n",
        "\n",
        "# Agrupar por 'nom_fac' y sumar 'DOLARES', luego ordenar en orden descendente\n",
        "resultado = df2.groupby('nom_fac')['DOLARES'].sum().sort_values(ascending=False)\n",
        "\n",
        "# Obtener el número o posición del nombre deseado en el resultado\n",
        "posicion = resultado.index.get_loc(nombre_buscar)\n",
        "\n",
        "print(f\"El nombre '{nombre_buscar}' se encuentra en la posición {posicion} en el resultado.\")"
      ],
      "metadata": {
        "colab": {
          "base_uri": "https://localhost:8080/"
        },
        "id": "UyH6jc3x5jVO",
        "outputId": "8c1bea9b-4218-4b25-b9e9-14ac7c12d329"
      },
      "execution_count": null,
      "outputs": [
        {
          "output_type": "stream",
          "name": "stdout",
          "text": [
            "El nombre 'ARMANDO MELCHOR REVILLA' se encuentra en la posición 93 en el resultado.\n"
          ]
        }
      ]
    },
    {
      "cell_type": "markdown",
      "source": [
        "Los 5 mejores vendedores"
      ],
      "metadata": {
        "id": "nrR7c08Igpkt"
      }
    },
    {
      "cell_type": "code",
      "source": [
        "df2.groupby('VENDEDOR')['CANTIDAD'].sum().sort_values(ascending=False)[0:5]"
      ],
      "metadata": {
        "colab": {
          "base_uri": "https://localhost:8080/"
        },
        "id": "gd_3J3WZgj5y",
        "outputId": "387421b2-c03b-4cad-ca66-5b52e2b5dce4"
      },
      "execution_count": null,
      "outputs": [
        {
          "output_type": "execute_result",
          "data": {
            "text/plain": [
              "VENDEDOR\n",
              "22    2758\n",
              "8     2476\n",
              "7      271\n",
              "9      180\n",
              "3      161\n",
              "Name: CANTIDAD, dtype: int64"
            ]
          },
          "metadata": {},
          "execution_count": 13
        }
      ]
    },
    {
      "cell_type": "markdown",
      "source": [
        "Serie temporal (Cantidad de ventas por fecha)"
      ],
      "metadata": {
        "id": "yBBsvvdDbj5n"
      }
    },
    {
      "cell_type": "code",
      "source": [
        "df2.groupby('FECHA')['CANTIDAD'].sum().plot.line()"
      ],
      "metadata": {
        "colab": {
          "base_uri": "https://localhost:8080/",
          "height": 440
        },
        "id": "hlOAqB7SboS7",
        "outputId": "41f46d38-b5fb-45a6-dd05-60ebe267927d"
      },
      "execution_count": null,
      "outputs": [
        {
          "output_type": "execute_result",
          "data": {
            "text/plain": [
              "<Axes: xlabel='FECHA'>"
            ]
          },
          "metadata": {},
          "execution_count": 14
        },
        {
          "output_type": "display_data",
          "data": {
            "text/plain": [
              "<Figure size 640x480 with 1 Axes>"
            ],
            "image/png": "[encoded data removed]"
          },
          "metadata": {}
        }
      ]
    },
    {
      "cell_type": "code",
      "source": [
        "#@title Ventas por cuatrimestre\n",
        "\n",
        "# Agrupando por cuatrimestres\n",
        "df_cuatrimestres = df2.groupby(pd.Grouper(key='FECHA', freq='4M'))['CANTIDAD'].sum()\n",
        "\n",
        "fig, ax = plt.subplots(figsize=(12, 6))\n",
        "\n",
        "# Obtener el número de cuatrimestres\n",
        "num_cuatrimestres = len(df_cuatrimestres)\n",
        "\n",
        "# Configurar los colores\n",
        "colores = ['cornflowerblue', 'darkgray']\n",
        "\n",
        "# Graficar las barras\n",
        "for i, valor in enumerate(df_cuatrimestres):\n",
        "    color_index = i // 3\n",
        "    color = colores[color_index % len(colores)]\n",
        "    ax.bar(i, valor, color=color)\n",
        "\n",
        "# Configurar los ejes y etiquetas\n",
        "ax.set_xlabel('Cuatrimestres')\n",
        "ax.set_ylabel('Cantidad')\n",
        "ax.set_title('Evolución de la cantidad por cuatrimestres')\n",
        "\n",
        "etiquetas_cuatri = [str(i) for i in range(len(df_cuatrimestres))]\n",
        "etiquetas_anio = [str(anio) for anio in df_cuatrimestres.index.year.unique()]\n",
        "\n",
        "ax.set_xticks(range(len(df_cuatrimestres)))\n",
        "ax.set_xticklabels(etiquetas_cuatri)\n",
        "\n",
        "posiciones_anio = [(i + 1) * 3 - 1.5 for i in range(len(df_cuatrimestres) // 3)]\n",
        "ax2 = ax.twiny()\n",
        "ax2.set_xlim(ax.get_xlim())\n",
        "ax2.set_xticks(posiciones_anio)\n",
        "ax2.set_xticklabels(etiquetas_anio[:-1])\n",
        "\n",
        "\n",
        "# Mostrar la gráfica\n",
        "plt.show()"
      ],
      "metadata": {
        "colab": {
          "base_uri": "https://localhost:8080/",
          "height": 438
        },
        "id": "DJgkTVy3eRmn",
        "outputId": "254b560e-0720-431b-8c99-706108b92ed4",
        "cellView": "form"
      },
      "execution_count": null,
      "outputs": [
        {
          "output_type": "display_data",
          "data": {
            "text/plain": [
              "<Figure size 1200x600 with 2 Axes>"
            ],
            "image/png": "[encoded data removed]"
          },
          "metadata": {}
        }
      ]
    },
    {
      "cell_type": "markdown",
      "source": [
        "Al inicio el máximo de cantidad de ventas era en el primer cuatrimestre y desde 2020 es en el tercero."
      ],
      "metadata": {
        "id": "vve_XNhceqMO"
      }
    },
    {
      "cell_type": "code",
      "source": [
        "#@title Mejores Productos\n",
        "\n",
        "# Crear un diccionario donde cada valor tenga un número entero asignado\n",
        "diccionario_product = {valor: indice for indice, valor in enumerate(df2['desc_prod'].unique())}\n",
        "\n",
        "# Sustituir los valores de la columna 'product' por los números correspondientes\n",
        "df2['desc_prod'] = df2['desc_prod'].map(diccionario_product)\n",
        "\n",
        "# colores\n",
        "colores = ['mediumseagreen' if product > 100 else 'cornflowerblue' for product in df2['desc_prod'].value_counts().values]\n",
        "\n",
        "# Crear una gráfica de distribución\n",
        "df2['desc_prod'].value_counts().plot.bar(color=colores)\n",
        "plt.xlabel('Producto')\n",
        "plt.ylabel('Frecuencia')\n",
        "plt.title('Distribución de productos')\n",
        "plt.show()"
      ],
      "metadata": {
        "colab": {
          "base_uri": "https://localhost:8080/",
          "height": 467
        },
        "id": "dTte9Au7IiPD",
        "outputId": "b524f1f8-dd4b-49eb-de7c-24170d93e1a7",
        "cellView": "form"
      },
      "execution_count": null,
      "outputs": [
        {
          "output_type": "display_data",
          "data": {
            "text/plain": [
              "<Figure size 640x480 with 1 Axes>"
            ],
            "image/png": "[encoded data removed]"
          },
          "metadata": {}
        }
      ]
    },
    {
      "cell_type": "markdown",
      "source": [
        "## Relación entre variables"
      ],
      "metadata": {
        "id": "KhQq2JoHb8S-"
      }
    },
    {
      "cell_type": "code",
      "source": [
        "df2.corr()"
      ],
      "metadata": {
        "colab": {
          "base_uri": "https://localhost:8080/",
          "height": 418
        },
        "id": "prFH2fcpb91u",
        "outputId": "abbd64b1-6906-4696-de69-cd5e4a3cc3b4"
      },
      "execution_count": null,
      "outputs": [
        {
          "output_type": "stream",
          "name": "stderr",
          "text": [
            "<ipython-input-18-e0c6714eb3b3>:1: FutureWarning: The default value of numeric_only in DataFrame.corr is deprecated. In a future version, it will default to False. Select only valid columns or specify the value of numeric_only to silence this warning.\n",
            "  df2.corr()\n"
          ]
        },
        {
          "output_type": "execute_result",
          "data": {
            "text/plain": [
              "            subt_fac   cve_cte  VALOR UNIT  CANTIDAD    Moneda     COSTO  \\\n",
              "subt_fac    1.000000  0.061217    0.364024  0.722551 -0.294579  0.187389   \n",
              "cve_cte     0.061217  1.000000    0.202769 -0.048878 -0.285035 -0.016018   \n",
              "VALOR UNIT  0.364024  0.202769    1.000000 -0.064483 -0.650590  0.560353   \n",
              "CANTIDAD    0.722551 -0.048878   -0.064483  1.000000  0.043248 -0.035000   \n",
              "Moneda     -0.294579 -0.285035   -0.650590  0.043248  1.000000  0.044762   \n",
              "COSTO       0.187389 -0.016018    0.560353 -0.035000  0.044762  1.000000   \n",
              "DOLARES     0.783139 -0.022752    0.128773  0.821940  0.028268  0.309316   \n",
              "tip_cam     0.063433  0.163995    0.182277 -0.015705 -0.148240  0.025380   \n",
              "VENDEDOR   -0.045460 -0.078804   -0.119244  0.021598  0.136747 -0.016584   \n",
              "desc_prod   0.194647 -0.034705    0.437479  0.034421  0.143348  0.898988   \n",
              "\n",
              "             DOLARES   tip_cam  VENDEDOR  desc_prod  \n",
              "subt_fac    0.783139  0.063433 -0.045460   0.194647  \n",
              "cve_cte    -0.022752  0.163995 -0.078804  -0.034705  \n",
              "VALOR UNIT  0.128773  0.182277 -0.119244   0.437479  \n",
              "CANTIDAD    0.821940 -0.015705  0.021598   0.034421  \n",
              "Moneda      0.028268 -0.148240  0.136747   0.143348  \n",
              "COSTO       0.309316  0.025380 -0.016584   0.898988  \n",
              "DOLARES     1.000000  0.022386  0.012262   0.317954  \n",
              "tip_cam     0.022386  1.000000 -0.032383   0.020863  \n",
              "VENDEDOR    0.012262 -0.032383  1.000000   0.026139  \n",
              "desc_prod   0.317954  0.020863  0.026139   1.000000  "
            ],
            "text/html": [
              "\n",
              "  <div id=\"df-1e071e1e-f223-4d3a-bb8d-8025bbdc10fa\">\n",
              "    <div class=\"colab-df-container\">\n",
              "      <div>\n",
              "<style scoped>\n",
              "    .dataframe tbody tr th:only-of-type {\n",
              "        vertical-align: middle;\n",
              "    }\n",
              "\n",
              "    .dataframe tbody tr th {\n",
              "        vertical-align: top;\n",
              "    }\n",
              "\n",
              "    .dataframe thead th {\n",
              "        text-align: right;\n",
              "    }\n",
              "</style>\n",
              "<table border=\"1\" class=\"dataframe\">\n",
              "  <thead>\n",
              "    <tr style=\"text-align: right;\">\n",
              "      <th></th>\n",
              "      <th>subt_fac</th>\n",
              "      <th>cve_cte</th>\n",
              "      <th>VALOR UNIT</th>\n",
              "      <th>CANTIDAD</th>\n",
              "      <th>Moneda</th>\n",
              "      <th>COSTO</th>\n",
              "      <th>DOLARES</th>\n",
              "      <th>tip_cam</th>\n",
              "      <th>VENDEDOR</th>\n",
              "      <th>desc_prod</th>\n",
              "    </tr>\n",
              "  </thead>\n",
              "  <tbody>\n",
              "    <tr>\n",
              "      <th>subt_fac</th>\n",
              "      <td>1.000000</td>\n",
              "      <td>0.061217</td>\n",
              "      <td>0.364024</td>\n",
              "      <td>0.722551</td>\n",
              "      <td>-0.294579</td>\n",
              "      <td>0.187389</td>\n",
              "      <td>0.783139</td>\n",
              "      <td>0.063433</td>\n",
              "      <td>-0.045460</td>\n",
              "      <td>0.194647</td>\n",
              "    </tr>\n",
              "    <tr>\n",
              "      <th>cve_cte</th>\n",
              "      <td>0.061217</td>\n",
              "      <td>1.000000</td>\n",
              "      <td>0.202769</td>\n",
              "      <td>-0.048878</td>\n",
              "      <td>-0.285035</td>\n",
              "      <td>-0.016018</td>\n",
              "      <td>-0.022752</td>\n",
              "      <td>0.163995</td>\n",
              "      <td>-0.078804</td>\n",
              "      <td>-0.034705</td>\n",
              "    </tr>\n",
              "    <tr>\n",
              "      <th>VALOR UNIT</th>\n",
              "      <td>0.364024</td>\n",
              "      <td>0.202769</td>\n",
              "      <td>1.000000</td>\n",
              "      <td>-0.064483</td>\n",
              "      <td>-0.650590</td>\n",
              "      <td>0.560353</td>\n",
              "      <td>0.128773</td>\n",
              "      <td>0.182277</td>\n",
              "      <td>-0.119244</td>\n",
              "      <td>0.437479</td>\n",
              "    </tr>\n",
              "    <tr>\n",
              "      <th>CANTIDAD</th>\n",
              "      <td>0.722551</td>\n",
              "      <td>-0.048878</td>\n",
              "      <td>-0.064483</td>\n",
              "      <td>1.000000</td>\n",
              "      <td>0.043248</td>\n",
              "      <td>-0.035000</td>\n",
              "      <td>0.821940</td>\n",
              "      <td>-0.015705</td>\n",
              "      <td>0.021598</td>\n",
              "      <td>0.034421</td>\n",
              "    </tr>\n",
              "    <tr>\n",
              "      <th>Moneda</th>\n",
              "      <td>-0.294579</td>\n",
              "      <td>-0.285035</td>\n",
              "      <td>-0.650590</td>\n",
              "      <td>0.043248</td>\n",
              "      <td>1.000000</td>\n",
              "      <td>0.044762</td>\n",
              "      <td>0.028268</td>\n",
              "      <td>-0.148240</td>\n",
              "      <td>0.136747</td>\n",
              "      <td>0.143348</td>\n",
              "    </tr>\n",
              "    <tr>\n",
              "      <th>COSTO</th>\n",
              "      <td>0.187389</td>\n",
              "      <td>-0.016018</td>\n",
              "      <td>0.560353</td>\n",
              "      <td>-0.035000</td>\n",
              "      <td>0.044762</td>\n",
              "      <td>1.000000</td>\n",
              "      <td>0.309316</td>\n",
              "      <td>0.025380</td>\n",
              "      <td>-0.016584</td>\n",
              "      <td>0.898988</td>\n",
              "    </tr>\n",
              "    <tr>\n",
              "      <th>DOLARES</th>\n",
              "      <td>0.783139</td>\n",
              "      <td>-0.022752</td>\n",
              "      <td>0.128773</td>\n",
              "      <td>0.821940</td>\n",
              "      <td>0.028268</td>\n",
              "      <td>0.309316</td>\n",
              "      <td>1.000000</td>\n",
              "      <td>0.022386</td>\n",
              "      <td>0.012262</td>\n",
              "      <td>0.317954</td>\n",
              "    </tr>\n",
              "    <tr>\n",
              "      <th>tip_cam</th>\n",
              "      <td>0.063433</td>\n",
              "      <td>0.163995</td>\n",
              "      <td>0.182277</td>\n",
              "      <td>-0.015705</td>\n",
              "      <td>-0.148240</td>\n",
              "      <td>0.025380</td>\n",
              "      <td>0.022386</td>\n",
              "      <td>1.000000</td>\n",
              "      <td>-0.032383</td>\n",
              "      <td>0.020863</td>\n",
              "    </tr>\n",
              "    <tr>\n",
              "      <th>VENDEDOR</th>\n",
              "      <td>-0.045460</td>\n",
              "      <td>-0.078804</td>\n",
              "      <td>-0.119244</td>\n",
              "      <td>0.021598</td>\n",
              "      <td>0.136747</td>\n",
              "      <td>-0.016584</td>\n",
              "      <td>0.012262</td>\n",
              "      <td>-0.032383</td>\n",
              "      <td>1.000000</td>\n",
              "      <td>0.026139</td>\n",
              "    </tr>\n",
              "    <tr>\n",
              "      <th>desc_prod</th>\n",
              "      <td>0.194647</td>\n",
              "      <td>-0.034705</td>\n",
              "      <td>0.437479</td>\n",
              "      <td>0.034421</td>\n",
              "      <td>0.143348</td>\n",
              "      <td>0.898988</td>\n",
              "      <td>0.317954</td>\n",
              "      <td>0.020863</td>\n",
              "      <td>0.026139</td>\n",
              "      <td>1.000000</td>\n",
              "    </tr>\n",
              "  </tbody>\n",
              "</table>\n",
              "</div>\n",
              "      <button class=\"colab-df-convert\" onclick=\"convertToInteractive('df-1e071e1e-f223-4d3a-bb8d-8025bbdc10fa')\"\n",
              "              title=\"Convert this dataframe to an interactive table.\"\n",
              "              style=\"display:none;\">\n",
              "        \n",
              "  <svg xmlns=\"http://www.w3.org/2000/svg\" height=\"24px\"viewBox=\"0 0 24 24\"\n",
              "       width=\"24px\">\n",
              "    <path d=\"M0 0h24v24H0V0z\" fill=\"none\"/>\n",
              "    <path d=\"M18.56 5.44l.94 2.06.94-2.06 2.06-.94-2.06-.94-.94-2.06-.94 2.06-2.06.94zm-11 1L8.5 8.5l.94-2.06 2.06-.94-2.06-.94L8.5 2.5l-.94 2.06-2.06.94zm10 10l.94 2.06.94-2.06 2.06-.94-2.06-.94-.94-2.06-.94 2.06-2.06.94z\"/><path d=\"M17.41 7.96l-1.37-1.37c-.4-.4-.92-.59-1.43-.59-.52 0-1.04.2-1.43.59L10.3 9.45l-7.72 7.72c-.78.78-.78 2.05 0 2.83L4 21.41c.39.39.9.59 1.41.59.51 0 1.02-.2 1.41-.59l7.78-7.78 2.81-2.81c.8-.78.8-2.07 0-2.86zM5.41 20L4 18.59l7.72-7.72 1.47 1.35L5.41 20z\"/>\n",
              "  </svg>\n",
              "      </button>\n",
              "      \n",
              "  <style>\n",
              "    .colab-df-container {\n",
              "      display:flex;\n",
              "      flex-wrap:wrap;\n",
              "      gap: 12px;\n",
              "    }\n",
              "\n",
              "    .colab-df-convert {\n",
              "      background-color: #E8F0FE;\n",
              "      border: none;\n",
              "      border-radius: 50%;\n",
              "      cursor: pointer;\n",
              "      display: none;\n",
              "      fill: #1967D2;\n",
              "      height: 32px;\n",
              "      padding: 0 0 0 0;\n",
              "      width: 32px;\n",
              "    }\n",
              "\n",
              "    .colab-df-convert:hover {\n",
              "      background-color: #E2EBFA;\n",
              "      box-shadow: 0px 1px 2px rgba(60, 64, 67, 0.3), 0px 1px 3px 1px rgba(60, 64, 67, 0.15);\n",
              "      fill: #174EA6;\n",
              "    }\n",
              "\n",
              "    [theme=dark] .colab-df-convert {\n",
              "      background-color: #3B4455;\n",
              "      fill: #D2E3FC;\n",
              "    }\n",
              "\n",
              "    [theme=dark] .colab-df-convert:hover {\n",
              "      background-color: #434B5C;\n",
              "      box-shadow: 0px 1px 3px 1px rgba(0, 0, 0, 0.15);\n",
              "      filter: drop-shadow(0px 1px 2px rgba(0, 0, 0, 0.3));\n",
              "      fill: #FFFFFF;\n",
              "    }\n",
              "  </style>\n",
              "\n",
              "      <script>\n",
              "        const buttonEl =\n",
              "          document.querySelector('#df-1e071e1e-f223-4d3a-bb8d-8025bbdc10fa button.colab-df-convert');\n",
              "        buttonEl.style.display =\n",
              "          google.colab.kernel.accessAllowed ? 'block' : 'none';\n",
              "\n",
              "        async function convertToInteractive(key) {\n",
              "          const element = document.querySelector('#df-1e071e1e-f223-4d3a-bb8d-8025bbdc10fa');\n",
              "          const dataTable =\n",
              "            await google.colab.kernel.invokeFunction('convertToInteractive',\n",
              "                                                     [key], {});\n",
              "          if (!dataTable) return;\n",
              "\n",
              "          const docLinkHtml = 'Like what you see? Visit the ' +\n",
              "            '<a target=\"_blank\" href=https://colab.research.google.com/notebooks/data_table.ipynb>data table notebook</a>'\n",
              "            + ' to learn more about interactive tables.';\n",
              "          element.innerHTML = '';\n",
              "          dataTable['output_type'] = 'display_data';\n",
              "          await google.colab.output.renderOutput(dataTable, element);\n",
              "          const docLink = document.createElement('div');\n",
              "          docLink.innerHTML = docLinkHtml;\n",
              "          element.appendChild(docLink);\n",
              "        }\n",
              "      </script>\n",
              "    </div>\n",
              "  </div>\n",
              "  "
            ]
          },
          "metadata": {},
          "execution_count": 18
        }
      ]
    },
    {
      "cell_type": "code",
      "source": [
        "df2.plot.scatter(x='subt_fac', y='DOLARES', color='cornflowerblue')"
      ],
      "metadata": {
        "colab": {
          "base_uri": "https://localhost:8080/",
          "height": 468
        },
        "id": "WP_XqiERcT0-",
        "outputId": "d5443695-954d-4da9-d1e2-7a1a8d82253a"
      },
      "execution_count": null,
      "outputs": [
        {
          "output_type": "execute_result",
          "data": {
            "text/plain": [
              "<Axes: xlabel='subt_fac', ylabel='DOLARES'>"
            ]
          },
          "metadata": {},
          "execution_count": 21
        },
        {
          "output_type": "display_data",
          "data": {
            "text/plain": [
              "<Figure size 640x480 with 1 Axes>"
            ],
            "image/png": "[encoded data removed]"
          },
          "metadata": {}
        }
      ]
    },
    {
      "cell_type": "code",
      "source": [
        "df2.groupby('MODELO')['COSTO'].mean().sort_values(ascending=False)"
      ],
      "metadata": {
        "colab": {
          "base_uri": "https://localhost:8080/"
        },
        "id": "hSDlqjRzdWPp",
        "outputId": "52e32c53-837f-4c39-a518-a4026ea11657"
      },
      "execution_count": null,
      "outputs": [
        {
          "output_type": "execute_result",
          "data": {
            "text/plain": [
              "MODELO\n",
              "RHT10     51.7000\n",
              "IR400     40.1500\n",
              "445815    38.4945\n",
              "445715    36.2945\n",
              "401014    17.5395\n",
              "39240     14.2945\n",
              "CL203     13.2000\n",
              "DV25       9.3500\n",
              "40130      7.1060\n",
              "TL803      4.9500\n",
              "Name: COSTO, dtype: float64"
            ]
          },
          "metadata": {},
          "execution_count": 20
        }
      ]
    },
    {
      "cell_type": "markdown",
      "source": [
        "# **Series de Tiempo**"
      ],
      "metadata": {
        "id": "35CBG7Z4_-QO"
      }
    },
    {
      "cell_type": "code",
      "source": [
        "import seaborn as sns\n",
        "from statsmodels.tsa.arima.model import ARIMA\n",
        "from statsmodels.tsa.statespace.sarimax import SARIMAX\n",
        "from sklearn.metrics import mean_squared_error\n",
        "from pandas.plotting import register_matplotlib_converters\n",
        "register_matplotlib_converters()"
      ],
      "metadata": {
        "id": "ZGNIAhI2ANyA"
      },
      "execution_count": 11,
      "outputs": []
    },
    {
      "cell_type": "code",
      "source": [
        "df['MODELO'].unique()"
      ],
      "metadata": {
        "colab": {
          "base_uri": "https://localhost:8080/"
        },
        "id": "yWDD5244JoTo",
        "outputId": "930dc0cb-da15-4b7c-8439-6b14c1aae3f1"
      },
      "execution_count": 33,
      "outputs": [
        {
          "output_type": "execute_result",
          "data": {
            "text/plain": [
              "array(['TL803', 40130, 'DV25', 'CL203', 39240, 401014, 445815, 'IR400',\n",
              "       'RHT10', 445715], dtype=object)"
            ]
          },
          "metadata": {},
          "execution_count": 33
        }
      ]
    },
    {
      "cell_type": "code",
      "source": [
        "# Choose a specific model\n",
        "specific_model = 'IR400'\n",
        "\n",
        "# Filter the data for the specific model\n",
        "df_specific = df[df['MODELO'] == specific_model]\n",
        "\n",
        "# Group the data by 'FECHA' and calculate the sum of 'CANTIDAD'\n",
        "df_grouped = df_specific.groupby(['FECHA'])['CANTIDAD'].sum().reset_index()\n",
        "\n",
        "# Set 'FECHA' as the index\n",
        "df_grouped.set_index('FECHA', inplace=True)\n",
        "\n",
        "# Split the data into training and test sets\n",
        "train = df_grouped[:int(0.7*len(df_grouped))]\n",
        "test = df_grouped[int(0.7*len(df_grouped)):]\n",
        "\n",
        "# Fit the ARIMA model\n",
        "model = ARIMA(train, order=(5,1,0))\n",
        "model_fit = model.fit()\n",
        "\n",
        "# Make predictions\n",
        "predictions = model_fit.predict(start=len(train), end=len(train)+len(test)-1, dynamic=False)\n",
        "\n",
        "# Calculate RMSE\n",
        "rmse = np.sqrt(mean_squared_error(test, predictions))\n",
        "rmse"
      ],
      "metadata": {
        "colab": {
          "base_uri": "https://localhost:8080/"
        },
        "id": "P2tOlws8A7yK",
        "outputId": "78a0c2e4-e87f-4c23-b705-9c499add3e76"
      },
      "execution_count": 38,
      "outputs": [
        {
          "output_type": "stream",
          "name": "stderr",
          "text": [
            "/usr/local/lib/python3.10/dist-packages/statsmodels/tsa/base/tsa_model.py:471: ValueWarning: A date index has been provided, but it has no associated frequency information and so will be ignored when e.g. forecasting.\n",
            "  self._init_dates(dates, freq)\n",
            "/usr/local/lib/python3.10/dist-packages/statsmodels/tsa/base/tsa_model.py:471: ValueWarning: A date index has been provided, but it has no associated frequency information and so will be ignored when e.g. forecasting.\n",
            "  self._init_dates(dates, freq)\n",
            "/usr/local/lib/python3.10/dist-packages/statsmodels/tsa/base/tsa_model.py:471: ValueWarning: A date index has been provided, but it has no associated frequency information and so will be ignored when e.g. forecasting.\n",
            "  self._init_dates(dates, freq)\n",
            "/usr/local/lib/python3.10/dist-packages/statsmodels/tsa/base/tsa_model.py:834: ValueWarning: No supported index is available. Prediction results will be given with an integer index beginning at `start`.\n",
            "  return get_prediction_index(\n"
          ]
        },
        {
          "output_type": "execute_result",
          "data": {
            "text/plain": [
              "0.9464335019583321"
            ]
          },
          "metadata": {},
          "execution_count": 38
        }
      ]
    },
    {
      "cell_type": "code",
      "source": [
        "plt.plot(test['CANTIDAD'].index, test['CANTIDAD'].values)\n",
        "plt.plot(test['CANTIDAD'].index, predictions.values, color='firebrick')\n",
        "plt.xticks(rotation=80)\n",
        "plt.show()"
      ],
      "metadata": {
        "colab": {
          "base_uri": "https://localhost:8080/",
          "height": 475
        },
        "id": "yC98MCYAHk_w",
        "outputId": "48dda705-272e-4031-db8a-977218ec5da6"
      },
      "execution_count": 37,
      "outputs": [
        {
          "output_type": "display_data",
          "data": {
            "text/plain": [
              "<Figure size 640x480 with 1 Axes>"
            ],
            "image/png": "[encoded data removed]"
          },
          "metadata": {}
        }
      ]
    },
    {
      "cell_type": "code",
      "source": [
        "len(predictions)"
      ],
      "metadata": {
        "colab": {
          "base_uri": "https://localhost:8080/"
        },
        "id": "kGl2XSX1KCD5",
        "outputId": "9c6044c5-436d-49ba-fa5f-cd4d9302b457"
      },
      "execution_count": 39,
      "outputs": [
        {
          "output_type": "execute_result",
          "data": {
            "text/plain": [
              "52"
            ]
          },
          "metadata": {},
          "execution_count": 39
        }
      ]
    },
    {
      "cell_type": "code",
      "source": [
        "from prophet import Prophet\n",
        "from sklearn.model_selection import train_test_split"
      ],
      "metadata": {
        "id": "SDTaRF9fkHaQ"
      },
      "execution_count": 2,
      "outputs": []
    },
    {
      "cell_type": "code",
      "source": [
        "df['MODELO'].unique()"
      ],
      "metadata": {
        "colab": {
          "base_uri": "https://localhost:8080/"
        },
        "id": "5uSZR26oqkM7",
        "outputId": "637d2784-cab0-4253-900b-7ffca00f2a5b"
      },
      "execution_count": 8,
      "outputs": [
        {
          "output_type": "execute_result",
          "data": {
            "text/plain": [
              "array(['TL803', 40130, 'DV25', 'CL203', 39240, 401014, 445815, 'IR400',\n",
              "       'RHT10', 445715], dtype=object)"
            ]
          },
          "metadata": {},
          "execution_count": 8
        }
      ]
    },
    {
      "cell_type": "code",
      "source": [
        "len(df[df['MODELO'] == 445715])"
      ],
      "metadata": {
        "colab": {
          "base_uri": "https://localhost:8080/"
        },
        "id": "gcxMXJSytduw",
        "outputId": "59befafc-fdb6-49ff-cb72-2e9b8a4f48a7"
      },
      "execution_count": 34,
      "outputs": [
        {
          "output_type": "execute_result",
          "data": {
            "text/plain": [
              "209"
            ]
          },
          "metadata": {},
          "execution_count": 34
        }
      ]
    },
    {
      "cell_type": "code",
      "source": [
        "# Filtrar el DataFrame por el valor específico de 'Modelo'\n",
        "\n",
        "df_filtrado = df.copy() #df[df['MODELO'] == 445715]\n",
        "\n",
        "#df_filtrado = df_filtrado.loc[df_filtrado['FECHA'] >= pd.to_datetime('2019-01-01')]\n",
        "\n",
        "\n",
        "# Agrupar la cantidad de datos por fecha\n",
        "df_agrupado = df_filtrado.groupby(pd.Grouper(key='FECHA', freq='M')).size().reset_index()\n",
        "df_agrupado.columns = ['ds', 'y']\n",
        "\n",
        "#Dividir datos de prueba y datos de entrenamiento\n",
        "train, test = train_test_split(df_agrupado, test_size=0.2, shuffle=False)\n",
        "\n",
        "# Creando modelo\n",
        "model = Prophet()\n",
        "model.fit(train)\n",
        "\n",
        "future = model.make_future_dataframe(periods = len(test),\n",
        "                                     freq = 'M',\n",
        "                                     include_history=False)\n",
        "forecast = model.predict(future)\n",
        "\n",
        " # Imprimir el gráfico de test vs predict\n",
        "fig, ax = plt.subplots(figsize=(10, 6))\n",
        "ax.plot(test['ds'], test['y'], label='Test')\n",
        "ax.plot(forecast['ds'], forecast['yhat'], label='Predict')\n",
        "ax.set_xlabel('Fecha')\n",
        "ax.set_ylabel('Cantidad')\n",
        "ax.set_title(f'Predicción vs Test')\n",
        "ax.legend()\n",
        "plt.show()\n",
        "\n",
        "# Calcular el RMSE (Error cuadrático medio)\n",
        "rmse = ((test['y'].values - forecast['yhat'].values) ** 2).mean() ** 0.5\n",
        "print('des_std: ', np.std(test['y'].values))\n",
        "print('rmse: ', rmse)"
      ],
      "metadata": {
        "colab": {
          "base_uri": "https://localhost:8080/",
          "height": 810
        },
        "id": "qnoVYYWGlGZ9",
        "outputId": "8a2925ee-2d30-4545-c2c3-d70ede0202c9"
      },
      "execution_count": 44,
      "outputs": [
        {
          "output_type": "stream",
          "name": "stderr",
          "text": [
            "INFO:prophet:Disabling weekly seasonality. Run prophet with weekly_seasonality=True to override this.\n",
            "INFO:prophet:Disabling daily seasonality. Run prophet with daily_seasonality=True to override this.\n",
            "DEBUG:cmdstanpy:input tempfile: /tmp/tmpn67a99nr/clb3y7u1.json\n",
            "DEBUG:cmdstanpy:input tempfile: /tmp/tmpn67a99nr/hi1805dp.json\n",
            "DEBUG:cmdstanpy:idx 0\n",
            "DEBUG:cmdstanpy:running CmdStan, num_threads: None\n",
            "DEBUG:cmdstanpy:CmdStan args: ['/usr/local/lib/python3.10/dist-packages/prophet/stan_model/prophet_model.bin', 'random', 'seed=73095', 'data', 'file=/tmp/tmpn67a99nr/clb3y7u1.json', 'init=/tmp/tmpn67a99nr/hi1805dp.json', 'output', 'file=/tmp/tmpn67a99nr/prophet_modelhsnj307s/prophet_model-20230625075034.csv', 'method=optimize', 'algorithm=newton', 'iter=10000']\n",
            "07:50:34 - cmdstanpy - INFO - Chain [1] start processing\n",
            "INFO:cmdstanpy:Chain [1] start processing\n",
            "07:50:34 - cmdstanpy - INFO - Chain [1] done processing\n",
            "INFO:cmdstanpy:Chain [1] done processing\n"
          ]
        },
        {
          "output_type": "display_data",
          "data": {
            "text/plain": [
              "<Figure size 1000x600 with 1 Axes>"
            ],
            "image/png": "[encoded data removed]"
          },
          "metadata": {}
        },
        {
          "output_type": "stream",
          "name": "stdout",
          "text": [
            "des_std:  7.505257416563998\n",
            "rmse:  6.705888189035301\n"
          ]
        }
      ]
    },
    {
      "cell_type": "markdown",
      "source": [
        "**Buenas predicciones**"
      ],
      "metadata": {
        "id": "BDBiY5dYBL6Y"
      }
    },
    {
      "cell_type": "code",
      "source": [
        "print('Modelo \\t Periodo \\t Partición')\n",
        "print('TODOS \\t DESDE 2019 \\t 1 MES')\n",
        "print('IR400 \\t COMPLETO \\t 1 MES Y SEMANAL')"
      ],
      "metadata": {
        "colab": {
          "base_uri": "https://localhost:8080/"
        },
        "id": "rdC3cgI7Bce2",
        "outputId": "1d718f47-d4ed-4635-88c6-7faca9ee9172"
      },
      "execution_count": 1,
      "outputs": [
        {
          "output_type": "stream",
          "name": "stdout",
          "text": [
            "Modelo \t Periodo \t Partición\n",
            "TODOS \t DESDE 2019 \t 1 MES\n"
          ]
        }
      ]
    },
    {
      "cell_type": "markdown",
      "source": [
        "Criterio de bondad: RMSE sea menor a la desviación estandar de los datos de prueba."
      ],
      "metadata": {
        "id": "ItKMOsjcv0dw"
      }
    }
  ]
}