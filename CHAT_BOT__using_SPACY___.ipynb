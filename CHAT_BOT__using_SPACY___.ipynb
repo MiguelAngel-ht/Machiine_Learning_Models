{
  "nbformat": 4,
  "nbformat_minor": 0,
  "metadata": {
    "colab": {
      "provenance": [],
      "collapsed_sections": [
        "Wz2ioD77m4RS"
      ],
      "authorship_tag": "ABX9TyMOmL6MJJl5an5aioGo8dPj",
      "include_colab_link": true
    },
    "kernelspec": {
      "name": "python3",
      "display_name": "Python 3"
    },
    "language_info": {
      "name": "python"
    }
  },
  "cells": [
    {
      "cell_type": "markdown",
      "metadata": {
        "id": "view-in-github",
        "colab_type": "text"
      },
      "source": [
        "<a href=\"https://colab.research.google.com/github/MiguelAngel-ht/Machine_Learning_Models/blob/main/CHAT_BOT__using_SPACY___.ipynb\" target=\"_parent\"><img src=\"https://colab.research.google.com/assets/colab-badge.svg\" alt=\"Open In Colab\"/></a>"
      ]
    },
    {
      "cell_type": "markdown",
      "source": [
        "# **Libraries**"
      ],
      "metadata": {
        "id": "Wz2ioD77m4RS"
      }
    },
    {
      "cell_type": "code",
      "source": [
        "import json\n",
        "import re\n",
        "import random"
      ],
      "metadata": {
        "id": "A6Kv5p3DRhMH"
      },
      "execution_count": 1,
      "outputs": []
    },
    {
      "cell_type": "code",
      "source": [
        "import spacy\n",
        "import en_core_web_sm"
      ],
      "metadata": {
        "id": "rG8YJFa_W6zT"
      },
      "execution_count": 2,
      "outputs": []
    },
    {
      "cell_type": "markdown",
      "source": [
        "# **Functions**"
      ],
      "metadata": {
        "id": "nQ8UdFx5m-nh"
      }
    },
    {
      "cell_type": "code",
      "source": [
        "x_json = \"\"\"{\"data\":[\n",
        "    {\n",
        "    \"response_type\": \"greeting\",\n",
        "    \"user_input\": [\"hello\", \"hi\", \"hey\"],\n",
        "    \"bot_response\": \"Hey there!\",\n",
        "    \"required_words\": []\n",
        "  },\n",
        "  {\n",
        "    \"response_type\": \"greeting\",\n",
        "    \"user_input\": [\"see you\", \"goodbye\", \"bye\", \"quit\", \"q\"],\n",
        "    \"bot_response\": \"See you later!\",\n",
        "    \"required_words\": []\n",
        "  },\n",
        "  {\n",
        "    \"response_type\": \"greeting\",\n",
        "    \"user_input\": [\"nice\", \"to\", \"meet\", \"you\"],\n",
        "    \"bot_response\": \"The pleasure is all mine!\",\n",
        "    \"required_words\": [\"nice\", \"meet\", \"you\"]\n",
        "  },\n",
        "  {\n",
        "    \"response_type\": \"greeting\",\n",
        "    \"user_input\": [\"nice\", \"good\", \"i love you\", \"excellent\", \"wow\", \"amazing\", \"beautiful\",\n",
        "                   \"pretty\", \"handsome\", \"beautifull\"],\n",
        "    \"bot_response\": \"You are a nice person :)\",\n",
        "    \"required_words\": []\n",
        "  }\"\"\""
      ],
      "metadata": {
        "id": "LKD4pLjTTbDa"
      },
      "execution_count": 4,
      "outputs": []
    },
    {
      "cell_type": "code",
      "source": [
        "def phase3(text):\n",
        "  res = ''\n",
        "  nlp = en_core_web_sm.load()\n",
        "  doc = nlp(text)\n",
        "  for ent in doc.ents:\n",
        "    if ent.label_ == 'ORG':\n",
        "      res = '. I don’t work for ' + str(ent.text) + \".\"\n",
        "      break\n",
        "    elif ent.label_ == 'GPE':\n",
        "      res = \". I’ve never been to \" + ent.text + \".\"\n",
        "      break\n",
        "    else:\n",
        "      for nc in doc.noun_chunks:\n",
        "        res = \" anything about \" + nc.text + \".\"\n",
        "        break\n",
        "  return res"
      ],
      "metadata": {
        "id": "aI9BaVPJ8AV_"
      },
      "execution_count": 5,
      "outputs": []
    },
    {
      "cell_type": "code",
      "source": [
        "def random_string(input_string):\n",
        "  try:\n",
        "    response = \"Sorry, I don't know about\" + phase3(input_string)\n",
        "  except:\n",
        "    response = \"Sorry, I don't know about it.\"\n",
        "  return response"
      ],
      "metadata": {
        "id": "8-bBBRvwPqJv"
      },
      "execution_count": 6,
      "outputs": []
    },
    {
      "cell_type": "code",
      "source": [
        "def load_answers():\n",
        "  with open('answers.txt', 'r') as f:\n",
        "      answers = [line.splitlines() for line in f]\n",
        "  return answers"
      ],
      "metadata": {
        "id": "DmiYTO4l7oaO"
      },
      "execution_count": 7,
      "outputs": []
    },
    {
      "cell_type": "code",
      "source": [
        "def load_questions():  \n",
        "  with open('questions.txt', 'r') as f:\n",
        "      strings = [line.splitlines() for line in f]\n",
        "      questions = [line[0].split() for line in strings]\n",
        "      for i, quest in enumerate(questions):\n",
        "        for j, word in enumerate(quest):\n",
        "          questions[i][j] = word.lower()          \n",
        "  return questions"
      ],
      "metadata": {
        "id": "7cIFSSFR-doU"
      },
      "execution_count": 9,
      "outputs": []
    },
    {
      "cell_type": "code",
      "source": [
        "def load_requireds():  \n",
        "  with open('required.txt', 'r') as f:\n",
        "      strings = [line.splitlines() for line in f]\n",
        "      requireds = [line[0].split() for line in strings]\n",
        "      for i, quest in enumerate(requireds):\n",
        "        for j, word in enumerate(quest):\n",
        "          requireds[i][j] = word.lower()          \n",
        "  return requireds"
      ],
      "metadata": {
        "id": "4u9oWwo2HDQ2"
      },
      "execution_count": 10,
      "outputs": []
    },
    {
      "cell_type": "code",
      "source": [
        "def load_json(answers, questions, requireds, x_json):\n",
        "    \n",
        "  x = ''\n",
        "  for i in range(len(questions)):\n",
        "      aux = \",{\"\n",
        "      aux += \"\"\" \"response_type\" : \"question\"\"\" + str(i) + \"\"\"\",\"\"\"\n",
        "      aux += \"\"\" \"user_input\" : \"\"\" + str(questions[i]) + \"\"\",\"\"\"\n",
        "      aux += \"\"\" \"bot_response\" : \" \"\"\" + str(answers[i][0]) + \"\"\"\",\"\"\"\n",
        "      aux += \"\"\" \"required_words\" : \"\"\" + str(requireds[i]) + \"\"\"}\"\"\"\n",
        "      x += aux\n",
        "  \n",
        "  x_json += x + ']}'\n",
        "  X_json = x_json.replace(\"\\'\",'\"')\n",
        "  return X_json"
      ],
      "metadata": {
        "id": "2qBZWq6XAmAo"
      },
      "execution_count": 11,
      "outputs": []
    },
    {
      "cell_type": "code",
      "source": [
        "answers = load_answers()\n",
        "questions = load_questions()\n",
        "requireds = load_requireds()\n",
        "X_json = load_json(answers, questions, requireds, x_json)\n",
        "\n",
        "response_data = json.loads(X_json)\n",
        "response_data = response_data['data']\n",
        "\n",
        "def get_response(input_string):\n",
        "    split_message = re.split(r'\\s+|[,;!.-]\\s*', input_string.lower())\n",
        "    score_list = []\n",
        "\n",
        "    # Check all the responses\n",
        "    for response in response_data:\n",
        "        response_score = 0\n",
        "        required_score = 0\n",
        "        required_words = response[\"required_words\"]\n",
        "\n",
        "        # Check if there are any required words\n",
        "        if required_words:\n",
        "            for word in split_message:\n",
        "                if word in required_words:\n",
        "                    required_score += 1\n",
        "\n",
        "        # Amount of required words should match the required score\n",
        "        if required_score == len(required_words):\n",
        "            # Check each word the user has typed\n",
        "            for word in split_message:\n",
        "                # If the word is in the response, add to the score\n",
        "                if word in response[\"user_input\"]:\n",
        "                    response_score += 1\n",
        "\n",
        "        # Add score to list\n",
        "        score_list.append(response_score)\n",
        "        # Debugging: Find the best phrase\n",
        "\n",
        "    # Find the best response and return it if they're not all 0\n",
        "    best_response = max(score_list)\n",
        "    response_index = score_list.index(best_response)\n",
        "\n",
        "    # Check if input is empty\n",
        "    if input_string == \"\":\n",
        "        return \"Please type something so we can chat :(\"\n",
        "\n",
        "    # If there is no good response, return a random one.\n",
        "    if best_response != 0:\n",
        "        return response_data[response_index][\"bot_response\"]\n",
        "\n",
        "    return random_string(input_string)"
      ],
      "metadata": {
        "id": "AQNwfGQkQcoV"
      },
      "execution_count": 19,
      "outputs": []
    },
    {
      "cell_type": "markdown",
      "source": [
        "# **Main**"
      ],
      "metadata": {
        "id": "pCPBYCYOnGO6"
      }
    },
    {
      "cell_type": "code",
      "source": [
        "# TALK TO THE USER\n",
        "\n",
        "def chat():\n",
        "  # INICIO\n",
        "  print(\"Hello! I know stuff about chat bots.\", end=\"\")\n",
        "  print(\"\\nWhen you're done talking, just say 'goodbye','quit' or 'q' \\n\")\n",
        "  while True:\n",
        "    user_input = input(\"You: \")              # GET INPUT\n",
        "    response = get_response(user_input)\n",
        "    print(\"Bot:\", response)       # RETURN ANSWER\n",
        "\n",
        "    if response == \"See you later!\":     # BREAK CONVERSATION \n",
        "      break"
      ],
      "metadata": {
        "id": "OMMJwh7-WvIE"
      },
      "execution_count": 13,
      "outputs": []
    },
    {
      "cell_type": "code",
      "source": [
        "chat()"
      ],
      "metadata": {
        "id": "f9Uyhq06Lo6K"
      },
      "execution_count": null,
      "outputs": []
    }
  ]
}